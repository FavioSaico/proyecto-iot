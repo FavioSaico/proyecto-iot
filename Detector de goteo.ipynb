{
 "cells": [
  {
   "cell_type": "markdown",
   "id": "ada233a9-197a-4a51-8573-d4d273991bda",
   "metadata": {},
   "source": [
    "## Instalación de librerías"
   ]
  },
  {
   "cell_type": "code",
   "execution_count": null,
   "id": "18b5c6ce-8a5d-4307-bb1d-cbae0a04009e",
   "metadata": {},
   "outputs": [],
   "source": [
    "pip install pyserial"
   ]
  },
  {
   "cell_type": "code",
   "execution_count": null,
   "id": "9c21a826-0ebc-4386-9ce3-7b800dfe33df",
   "metadata": {},
   "outputs": [],
   "source": [
    "pip install twilio"
   ]
  },
  {
   "cell_type": "code",
   "execution_count": null,
   "id": "89ad2a24-ae72-4eff-80d8-eac4ce89540b",
   "metadata": {},
   "outputs": [],
   "source": [
    "pip install python-dotenv"
   ]
  },
  {
   "cell_type": "markdown",
   "id": "5483f1e4-501d-4a91-a7da-a22ac9d1d539",
   "metadata": {},
   "source": [
    "## Importar librerías"
   ]
  },
  {
   "cell_type": "code",
   "execution_count": null,
   "id": "5f238a51-a982-45f8-8328-a77e247ce820",
   "metadata": {},
   "outputs": [],
   "source": [
    "import serial\n",
    "import os\n",
    "from twilio.rest import Client\n",
    "from dotenv import load_dotenv"
   ]
  },
  {
   "cell_type": "markdown",
   "id": "2753845f-9f33-42ef-a24c-c9f736147bd0",
   "metadata": {},
   "source": [
    "## Configuración del puerto serial"
   ]
  },
  {
   "cell_type": "code",
   "execution_count": null,
   "id": "72b5aec2-58d0-4859-83e1-91c24f2670a8",
   "metadata": {},
   "outputs": [],
   "source": [
    "arduino_port = 'COM4'\n",
    "baud_rate = 9600\n",
    "ser = serial.Serial(arduino_port, baud_rate)"
   ]
  },
  {
   "cell_type": "markdown",
   "id": "2b772646-93aa-43a1-a60f-38b706bff0df",
   "metadata": {},
   "source": [
    "## Configuración de la API de Twilio"
   ]
  },
  {
   "cell_type": "code",
   "execution_count": null,
   "id": "76a3eb75",
   "metadata": {},
   "outputs": [],
   "source": [
    "load_dotenv() # Cargar variables del archivo .env\n",
    "account_sid = os.getenv('ACCOUNT_SID')\n",
    "auth_token = os.getenv('AUTH_TOKEN')\n",
    "from_number = \"whatsapp:+14155238886\"  # Número Twilio habilitado para WhatsApp\n",
    "to_number = \"whatsapp:+51944380075\"    # Tu número de WhatsApp\n",
    "mensajeWsp = False"
   ]
  },
  {
   "cell_type": "markdown",
   "id": "6c17bbde-f888-4047-9e63-25870cbfddf1",
   "metadata": {},
   "source": [
    "## Lectura del puerto serial"
   ]
  },
  {
   "cell_type": "code",
   "execution_count": null,
   "id": "110eb4a0-8a16-46a1-93ea-28d3b02a1ba3",
   "metadata": {},
   "outputs": [],
   "source": [
    "try:\n",
    "    print(f\"Conectado a {arduino_port}\")\n",
    "    while True:\n",
    "        # Leer línea del puerto serial\n",
    "        data = ser.readline().decode('utf-8').strip()\n",
    "        if data :\n",
    "            print(f\"Datos recibidos: {data}\")\n",
    "\n",
    "        if \"¡Agua detectada!\" in data and mensajeWsp == False:\n",
    "            print(f\"Enviando mensaje de WhatsApp\")\n",
    "            client = Client(account_sid, auth_token)\n",
    "            message = client.messages.create(\n",
    "                to=to_number,\n",
    "                from_=from_number,\n",
    "                body=f\"⚠️🚨Fuga detectada.🚨⚠️\\n Valores detectados: {data} \"\n",
    "            )\n",
    "            mensajeWsp = True\n",
    "        \n",
    "except KeyboardInterrupt:\n",
    "    print(\"Lectura interrumpida\")\n",
    "finally:\n",
    "    ser.close()\n",
    "    print(\"Puerto serial cerrado.\")"
   ]
  }
 ],
 "metadata": {
  "kernelspec": {
   "display_name": "Python 3 (ipykernel)",
   "language": "python",
   "name": "python3"
  },
  "language_info": {
   "codemirror_mode": {
    "name": "ipython",
    "version": 3
   },
   "file_extension": ".py",
   "mimetype": "text/x-python",
   "name": "python",
   "nbconvert_exporter": "python",
   "pygments_lexer": "ipython3",
   "version": "3.11.7"
  }
 },
 "nbformat": 4,
 "nbformat_minor": 5
}
